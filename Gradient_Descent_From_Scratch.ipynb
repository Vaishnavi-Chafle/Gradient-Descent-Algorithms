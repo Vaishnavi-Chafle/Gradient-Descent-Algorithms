{
  "nbformat": 4,
  "nbformat_minor": 0,
  "metadata": {
    "colab": {
      "provenance": []
    },
    "kernelspec": {
      "name": "python3",
      "display_name": "Python 3"
    },
    "language_info": {
      "name": "python"
    }
  },
  "cells": [
    {
      "cell_type": "code",
      "execution_count": 265,
      "metadata": {
        "id": "0jBfcfgN6XNl"
      },
      "outputs": [],
      "source": [
        "from sklearn.datasets import make_regression\n",
        "import matplotlib.pyplot as plt\n",
        "import numpy as np\n",
        "from sklearn.model_selection import cross_val_score"
      ]
    },
    {
      "cell_type": "code",
      "source": [
        "x,y = make_regression(n_samples=100, n_features = 1, n_informative=1, n_targets = 1, noise = 20)"
      ],
      "metadata": {
        "id": "MtSDGs96IFVI"
      },
      "execution_count": 268,
      "outputs": []
    },
    {
      "cell_type": "code",
      "source": [
        "plt.scatter(x,y)"
      ],
      "metadata": {
        "colab": {
          "base_uri": "https://localhost:8080/",
          "height": 447
        },
        "id": "q7MqMp2xIYXQ",
        "outputId": "e7e2e324-b8b3-4537-894e-0e97f434c93e"
      },
      "execution_count": 269,
      "outputs": [
        {
          "output_type": "execute_result",
          "data": {
            "text/plain": [
              "<matplotlib.collections.PathCollection at 0x7e6414bedb50>"
            ]
          },
          "metadata": {},
          "execution_count": 269
        },
        {
          "output_type": "display_data",
          "data": {
            "text/plain": [
              "<Figure size 640x480 with 1 Axes>"
            ],
            "image/png": "[encoded data removed]"
          },
          "metadata": {}
        }
      ]
    },
    {
      "cell_type": "code",
      "source": [
        "from sklearn.model_selection import train_test_split\n",
        "x_train,x_test,y_train,y_test = train_test_split(x,y,test_size =0.2,random_state=2)"
      ],
      "metadata": {
        "id": "6fUC6PMOjMGm"
      },
      "execution_count": 290,
      "outputs": []
    },
    {
      "cell_type": "code",
      "source": [
        "from sklearn.linear_model import LinearRegression"
      ],
      "metadata": {
        "id": "heUodYsLIYVO"
      },
      "execution_count": 291,
      "outputs": []
    },
    {
      "cell_type": "code",
      "source": [
        "model = LinearRegression()"
      ],
      "metadata": {
        "id": "_DIsl2KoIYTc"
      },
      "execution_count": 292,
      "outputs": []
    },
    {
      "cell_type": "code",
      "source": [
        "model.fit(x_train,y_train)\n",
        "print(model.coef_)\n",
        "print(model.intercept_)"
      ],
      "metadata": {
        "colab": {
          "base_uri": "https://localhost:8080/"
        },
        "id": "NQnQJ5xMIYQ-",
        "outputId": "70324547-e755-426c-ae96-fc70072dd2ca"
      },
      "execution_count": 293,
      "outputs": [
        {
          "output_type": "stream",
          "name": "stdout",
          "text": [
            "[43.3775992]\n",
            "2.39773830750448\n"
          ]
        }
      ]
    },
    {
      "cell_type": "code",
      "source": [
        "y_pred = model.predict(x_test)\n",
        "from sklearn.metrics import r2_score\n",
        "r2_score(y_test,y_pred)"
      ],
      "metadata": {
        "colab": {
          "base_uri": "https://localhost:8080/"
        },
        "id": "aTjmQXn5adB5",
        "outputId": "e9efdc65-5f65-4884-f950-7ff46fdd7abd"
      },
      "execution_count": 294,
      "outputs": [
        {
          "output_type": "execute_result",
          "data": {
            "text/plain": [
              "0.8648516829037516"
            ]
          },
          "metadata": {},
          "execution_count": 294
        }
      ]
    },
    {
      "cell_type": "code",
      "source": [
        "class GDRegressor:\n",
        "\n",
        "  def __init__(self,learning_rate,epochs):\n",
        "    self.m = 100\n",
        "    self.b = -120\n",
        "    self.lr = learning_rate\n",
        "    self.epoch = epochs\n",
        "\n",
        "  def fit(self,x,y):\n",
        "    # calculate b using GD\n",
        "    for i in range(self.epoch):\n",
        "      slope_b = -2 * np.sum(y - self.m*x.ravel() - self.b)\n",
        "      slope_m = -2* np.sum((y - self.m*x.ravel() - self.b)*x.ravel())\n",
        "\n",
        "      self.b = self.b - (self.lr * slope_b)\n",
        "      self.m = self.m - (self.lr * slope_m)\n",
        "\n",
        "    print(self.b,self.m)\n",
        "\n",
        "\n",
        "  def predict(self,x):\n",
        "    return self.m * x + self.b\n",
        "\n",
        ""
      ],
      "metadata": {
        "id": "vPZ_U4KtIYMW"
      },
      "execution_count": 286,
      "outputs": []
    },
    {
      "cell_type": "code",
      "source": [
        "gd = GDRegressor(0.001,100)"
      ],
      "metadata": {
        "id": "080nKNgCK3nM"
      },
      "execution_count": 287,
      "outputs": []
    },
    {
      "cell_type": "code",
      "source": [
        "gd.fit(x_train,y_train)"
      ],
      "metadata": {
        "colab": {
          "base_uri": "https://localhost:8080/"
        },
        "id": "7n1T7JVJK_vy",
        "outputId": "7b134b9e-6627-479e-a7a3-0e70134bf01a"
      },
      "execution_count": 295,
      "outputs": [
        {
          "output_type": "stream",
          "name": "stdout",
          "text": [
            "2.397738315603954 43.37759919983391\n"
          ]
        }
      ]
    },
    {
      "cell_type": "code",
      "source": [
        "gd.predict(x)"
      ],
      "metadata": {
        "colab": {
          "base_uri": "https://localhost:8080/"
        },
        "collapsed": true,
        "id": "jKVcwJChLBR0",
        "outputId": "fbabaacc-8828-45fe-dcb7-e53245dd64bc"
      },
      "execution_count": 296,
      "outputs": [
        {
          "output_type": "execute_result",
          "data": {
            "text/plain": [
              "array([[-3.42153882e+01],\n",
              "       [-3.31139034e+01],\n",
              "       [-1.19893920e-02],\n",
              "       [ 9.07660451e+00],\n",
              "       [-2.04993086e+01],\n",
              "       [ 5.04945252e+01],\n",
              "       [ 9.03009013e+01],\n",
              "       [-5.64684344e+01],\n",
              "       [-1.20302681e+01],\n",
              "       [ 7.44098683e+01],\n",
              "       [-4.59017333e+01],\n",
              "       [-5.02404959e+01],\n",
              "       [ 7.20915999e+00],\n",
              "       [ 3.15362243e+01],\n",
              "       [-6.17117731e+01],\n",
              "       [-2.85741205e+01],\n",
              "       [-5.92395998e+01],\n",
              "       [-1.10332684e+02],\n",
              "       [ 5.31027584e+01],\n",
              "       [-1.24176868e+01],\n",
              "       [-5.50231906e+01],\n",
              "       [-2.18322478e+01],\n",
              "       [ 4.14091878e+01],\n",
              "       [ 3.29632620e+01],\n",
              "       [ 2.50034349e+01],\n",
              "       [ 8.01066811e+00],\n",
              "       [ 1.68499000e+01],\n",
              "       [ 2.87583689e+01],\n",
              "       [ 6.94796707e+00],\n",
              "       [-2.94929605e+01],\n",
              "       [-7.91884915e+01],\n",
              "       [-1.00590630e+02],\n",
              "       [ 4.00896710e+01],\n",
              "       [ 1.18623438e+01],\n",
              "       [ 3.04866072e+01],\n",
              "       [-8.41019956e+01],\n",
              "       [-3.30883823e+00],\n",
              "       [ 1.15284343e+01],\n",
              "       [ 1.18428380e+01],\n",
              "       [ 5.35610836e+01],\n",
              "       [-6.08850959e+01],\n",
              "       [-5.13239327e+00],\n",
              "       [ 6.14585975e+01],\n",
              "       [-3.60287174e+01],\n",
              "       [ 4.85790539e+00],\n",
              "       [ 1.34646832e+00],\n",
              "       [-2.15665464e+00],\n",
              "       [-3.52691481e+01],\n",
              "       [-4.09811440e+01],\n",
              "       [ 2.23397790e+01],\n",
              "       [ 1.73920323e+01],\n",
              "       [ 1.82461058e+00],\n",
              "       [-4.17834689e+01],\n",
              "       [ 5.77792106e+01],\n",
              "       [ 4.00466258e+01],\n",
              "       [-6.75344630e+00],\n",
              "       [-3.39910719e+01],\n",
              "       [-2.73773722e+01],\n",
              "       [ 7.20274204e+01],\n",
              "       [-1.94180397e+01],\n",
              "       [-2.41196213e+01],\n",
              "       [-3.63408244e+01],\n",
              "       [ 7.26995308e+01],\n",
              "       [ 9.99472834e-01],\n",
              "       [-5.69996475e+01],\n",
              "       [ 4.63767108e+01],\n",
              "       [-1.01340811e+01],\n",
              "       [ 7.39351268e+01],\n",
              "       [ 4.57780297e+01],\n",
              "       [ 2.09046401e+01],\n",
              "       [ 7.94360369e+00],\n",
              "       [-5.21999162e+01],\n",
              "       [-1.93819004e+01],\n",
              "       [-5.66150737e+01],\n",
              "       [-1.70818101e+01],\n",
              "       [ 2.06040601e+01],\n",
              "       [ 2.31425467e+01],\n",
              "       [ 2.76237440e+01],\n",
              "       [-6.30477941e+01],\n",
              "       [ 3.11285022e+01],\n",
              "       [-2.10772461e+01],\n",
              "       [-5.32993423e+01],\n",
              "       [ 1.16327337e+01],\n",
              "       [-4.94262338e-01],\n",
              "       [ 7.54704559e+01],\n",
              "       [-1.29844204e+02],\n",
              "       [ 3.79538005e+01],\n",
              "       [ 8.20092437e+01],\n",
              "       [-3.49530356e+01],\n",
              "       [-6.30370793e+01],\n",
              "       [-3.70093784e+01],\n",
              "       [-3.92091724e+00],\n",
              "       [-3.05596637e+01],\n",
              "       [-8.73193987e+00],\n",
              "       [ 2.85018150e+01],\n",
              "       [ 5.58695083e+01],\n",
              "       [ 2.79727135e+01],\n",
              "       [-3.76990773e+01],\n",
              "       [ 2.16452508e+01],\n",
              "       [ 5.96624042e+01]])"
            ]
          },
          "metadata": {},
          "execution_count": 296
        }
      ]
    },
    {
      "cell_type": "code",
      "source": [
        "y_pred = gd.predict(x_test)\n",
        "r2_score(y_test,y_pred)"
      ],
      "metadata": {
        "colab": {
          "base_uri": "https://localhost:8080/"
        },
        "id": "GbqNeZ5ii4mj",
        "outputId": "eb23d3b1-d8d4-4357-8f5a-01c1fbd2aac5"
      },
      "execution_count": 297,
      "outputs": [
        {
          "output_type": "execute_result",
          "data": {
            "text/plain": [
              "0.8648516829120221"
            ]
          },
          "metadata": {},
          "execution_count": 297
        }
      ]
    },
    {
      "cell_type": "code",
      "source": [],
      "metadata": {
        "id": "fpQ7kwfOkPf1"
      },
      "execution_count": null,
      "outputs": []
    }
  ]
}